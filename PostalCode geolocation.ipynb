{
 "cells": [
  {
   "cell_type": "markdown",
   "metadata": {},
   "source": [
    "I start just recovering the results of the previous notebook"
   ]
  },
  {
   "cell_type": "code",
   "execution_count": 13,
   "metadata": {},
   "outputs": [],
   "source": [
    "result = pd.read_csv(\"WikiScrapingResult.csv\").drop(\"Unnamed: 0\", axis = 1) #Import the result of the other notebook"
   ]
  },
  {
   "cell_type": "markdown",
   "metadata": {},
   "source": [
    "This is the piece of code I used to download the data. Since I have to obscure the key, I canceled it and just exported all data to a csv which I will import to be examined.\n",
    "I used bing services as google was having some problems. Skip next cell if you are looking at the notebook on github"
   ]
  },
  {
   "cell_type": "code",
   "execution_count": 11,
   "metadata": {
    "scrolled": false
   },
   "outputs": [
    {
     "name": "stdout",
     "output_type": "stream",
     "text": [
      "Done!                                                                                               \n"
     ]
    }
   ],
   "source": [
    "import geocoder\n",
    "import pandas as pd\n",
    "\n",
    "latitudes = []\n",
    "longitudes = []\n",
    "\n",
    "total_els = len(result[\"PostalCode\"])\n",
    "executed = 0\n",
    "\n",
    "for postal_code in result[\"PostalCode\"]:\n",
    "    print(\"Getting latitudes. Elements completed: {}/{}. Working on: {}\".format(executed, total_els, postal_code), end = \"\\r\")\n",
    "    lat_lng_coords = None\n",
    "\n",
    "    while(lat_lng_coords is None):\n",
    "        g = geocoder.bing('{}, Toronto, Ontario'.format(postal_code), key = \"my_key\")\n",
    "        lat_lng_coords = g.latlng\n",
    "\n",
    "    latitudes.append(lat_lng_coords[0])\n",
    "    longitudes.append(lat_lng_coords[1])\n",
    "    executed += 1\n",
    "\n",
    "result[\"Latitude\"] = latitudes\n",
    "result[\"Longitude\"] = longitudes\n",
    "\n",
    "print(\"{:<100}\".format(\"Done!\"))\n",
    "\n",
    "result.to_csv(\"Coordinates.csv\")"
   ]
  },
  {
   "cell_type": "markdown",
   "metadata": {},
   "source": [
    "Come here if you wanna try the notebook from github"
   ]
  },
  {
   "cell_type": "code",
   "execution_count": 12,
   "metadata": {},
   "outputs": [
    {
     "data": {
      "text/html": [
       "<div>\n",
       "<style scoped>\n",
       "    .dataframe tbody tr th:only-of-type {\n",
       "        vertical-align: middle;\n",
       "    }\n",
       "\n",
       "    .dataframe tbody tr th {\n",
       "        vertical-align: top;\n",
       "    }\n",
       "\n",
       "    .dataframe thead th {\n",
       "        text-align: right;\n",
       "    }\n",
       "</style>\n",
       "<table border=\"1\" class=\"dataframe\">\n",
       "  <thead>\n",
       "    <tr style=\"text-align: right;\">\n",
       "      <th></th>\n",
       "      <th>PostalCode</th>\n",
       "      <th>Borough</th>\n",
       "      <th>Neighborhood</th>\n",
       "      <th>Latitude</th>\n",
       "      <th>Longitude</th>\n",
       "    </tr>\n",
       "  </thead>\n",
       "  <tbody>\n",
       "    <tr>\n",
       "      <td>0</td>\n",
       "      <td>M3A</td>\n",
       "      <td>North York</td>\n",
       "      <td>Parkwoods</td>\n",
       "      <td>43.751881</td>\n",
       "      <td>-79.330360</td>\n",
       "    </tr>\n",
       "    <tr>\n",
       "      <td>1</td>\n",
       "      <td>M4A</td>\n",
       "      <td>North York</td>\n",
       "      <td>Victoria Village</td>\n",
       "      <td>43.730419</td>\n",
       "      <td>-79.312820</td>\n",
       "    </tr>\n",
       "    <tr>\n",
       "      <td>2</td>\n",
       "      <td>M5A</td>\n",
       "      <td>Downtown Toronto</td>\n",
       "      <td>Regent Park, Harbourfront</td>\n",
       "      <td>43.655140</td>\n",
       "      <td>-79.362648</td>\n",
       "    </tr>\n",
       "    <tr>\n",
       "      <td>3</td>\n",
       "      <td>M6A</td>\n",
       "      <td>North York</td>\n",
       "      <td>Lawrence Manor, Lawrence Heights</td>\n",
       "      <td>43.723209</td>\n",
       "      <td>-79.451408</td>\n",
       "    </tr>\n",
       "    <tr>\n",
       "      <td>4</td>\n",
       "      <td>M7A</td>\n",
       "      <td>Downtown Toronto</td>\n",
       "      <td>Queen's Park, Ontario Provincial Government</td>\n",
       "      <td>43.664490</td>\n",
       "      <td>-79.393021</td>\n",
       "    </tr>\n",
       "    <tr>\n",
       "      <td>...</td>\n",
       "      <td>...</td>\n",
       "      <td>...</td>\n",
       "      <td>...</td>\n",
       "      <td>...</td>\n",
       "      <td>...</td>\n",
       "    </tr>\n",
       "    <tr>\n",
       "      <td>98</td>\n",
       "      <td>M8X</td>\n",
       "      <td>Etobicoke</td>\n",
       "      <td>The Kingsway, Montgomery Road, Old Mill North</td>\n",
       "      <td>43.653690</td>\n",
       "      <td>-79.511124</td>\n",
       "    </tr>\n",
       "    <tr>\n",
       "      <td>99</td>\n",
       "      <td>M4Y</td>\n",
       "      <td>Downtown Toronto</td>\n",
       "      <td>Church and Wellesley</td>\n",
       "      <td>43.666592</td>\n",
       "      <td>-79.381302</td>\n",
       "    </tr>\n",
       "    <tr>\n",
       "      <td>100</td>\n",
       "      <td>M7Y</td>\n",
       "      <td>East Toronto</td>\n",
       "      <td>Business reply mail Processing Centre, South C...</td>\n",
       "      <td>43.648689</td>\n",
       "      <td>-79.385437</td>\n",
       "    </tr>\n",
       "    <tr>\n",
       "      <td>101</td>\n",
       "      <td>M8Y</td>\n",
       "      <td>Etobicoke</td>\n",
       "      <td>Old Mill South, King's Mill Park, Sunnylea, Hu...</td>\n",
       "      <td>43.632881</td>\n",
       "      <td>-79.489548</td>\n",
       "    </tr>\n",
       "    <tr>\n",
       "      <td>102</td>\n",
       "      <td>M8Z</td>\n",
       "      <td>Etobicoke</td>\n",
       "      <td>Mimico NW, The Queensway West, South of Bloor,...</td>\n",
       "      <td>43.624630</td>\n",
       "      <td>-79.528351</td>\n",
       "    </tr>\n",
       "  </tbody>\n",
       "</table>\n",
       "<p>103 rows × 5 columns</p>\n",
       "</div>"
      ],
      "text/plain": [
       "    PostalCode           Borough  \\\n",
       "0          M3A        North York   \n",
       "1          M4A        North York   \n",
       "2          M5A  Downtown Toronto   \n",
       "3          M6A        North York   \n",
       "4          M7A  Downtown Toronto   \n",
       "..         ...               ...   \n",
       "98         M8X         Etobicoke   \n",
       "99         M4Y  Downtown Toronto   \n",
       "100        M7Y      East Toronto   \n",
       "101        M8Y         Etobicoke   \n",
       "102        M8Z         Etobicoke   \n",
       "\n",
       "                                          Neighborhood   Latitude  Longitude  \n",
       "0                                            Parkwoods  43.751881 -79.330360  \n",
       "1                                     Victoria Village  43.730419 -79.312820  \n",
       "2                            Regent Park, Harbourfront  43.655140 -79.362648  \n",
       "3                     Lawrence Manor, Lawrence Heights  43.723209 -79.451408  \n",
       "4          Queen's Park, Ontario Provincial Government  43.664490 -79.393021  \n",
       "..                                                 ...        ...        ...  \n",
       "98       The Kingsway, Montgomery Road, Old Mill North  43.653690 -79.511124  \n",
       "99                                Church and Wellesley  43.666592 -79.381302  \n",
       "100  Business reply mail Processing Centre, South C...  43.648689 -79.385437  \n",
       "101  Old Mill South, King's Mill Park, Sunnylea, Hu...  43.632881 -79.489548  \n",
       "102  Mimico NW, The Queensway West, South of Bloor,...  43.624630 -79.528351  \n",
       "\n",
       "[103 rows x 5 columns]"
      ]
     },
     "execution_count": 12,
     "metadata": {},
     "output_type": "execute_result"
    }
   ],
   "source": [
    "result = pd.read_csv(\"Coordinates.csv\").drop(\"Unnamed: 0\", axis = 1)\n",
    "result"
   ]
  }
 ],
 "metadata": {
  "kernelspec": {
   "display_name": "Python 3",
   "language": "python",
   "name": "python3"
  },
  "language_info": {
   "codemirror_mode": {
    "name": "ipython",
    "version": 3
   },
   "file_extension": ".py",
   "mimetype": "text/x-python",
   "name": "python",
   "nbconvert_exporter": "python",
   "pygments_lexer": "ipython3",
   "version": "3.7.4"
  }
 },
 "nbformat": 4,
 "nbformat_minor": 2
}
